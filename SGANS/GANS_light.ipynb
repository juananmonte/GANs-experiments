{
 "cells": [
  {
   "cell_type": "code",
   "execution_count": 1,
   "id": "3dfe9412",
   "metadata": {
    "ExecuteTime": {
     "end_time": "2021-08-22T08:36:03.312486Z",
     "start_time": "2021-08-22T08:35:53.400925Z"
    }
   },
   "outputs": [],
   "source": [
    "import pandas as pd \n",
    "import seaborn as sns\n",
    "import matplotlib.pyplot as plt\n",
    "import matplotlib as mlp\n",
    "import random\n",
    "from pathlib import Path\n",
    "import os\n",
    "import glob\n",
    "from operator import itemgetter\n",
    "\n",
    "import cv2\n",
    "import tensorflow.experimental.numpy as tnp\n",
    "import numpy as np\n",
    "from numpy import expand_dims\n",
    "from numpy import zeros\n",
    "from numpy import ones\n",
    "from numpy import asarray\n",
    "from numpy.random import randint\n",
    "from numpy import savez_compressed\n",
    "from numpy import load \n",
    "from numpy.random import randn\n",
    "\n",
    "\n",
    "import tensorflow as tf\n",
    "from tensorflow.keras.utils import to_categorical\n",
    "from tensorflow.keras import backend\n",
    "from tensorflow.keras.layers import concatenate\n",
    "from tensorflow.keras.layers import Activation\n",
    "from tensorflow.keras.layers import Lambda\n",
    "from tensorflow.keras.layers import Conv2DTranspose, MaxPooling2D, UpSampling2D\n",
    "from tensorflow.keras.layers import Reshape\n",
    "from tensorflow.keras.preprocessing import image\n",
    "from tensorflow.keras.preprocessing.image import load_img \n",
    "from tensorflow.keras.preprocessing.image import img_to_array\n",
    "from tensorflow.keras.models import Model\n",
    "from tensorflow.keras.layers import Input\n",
    "from tensorflow.keras.layers import Dense\n",
    "from tensorflow.keras.layers import Conv2D\n",
    "from tensorflow.keras.layers import LeakyReLU\n",
    "from tensorflow.keras.layers import Dropout \n",
    "from tensorflow.keras.layers import Flatten\n",
    "from tensorflow.keras.layers import BatchNormalization\n",
    "from tensorflow.keras.optimizers import Adam, Adagrad\n",
    "from tensorflow.keras.utils import plot_model\n",
    "from tensorflow.keras.initializers import RandomNormal\n",
    "from tensorflow.keras.callbacks import ModelCheckpoint, EarlyStopping, ReduceLROnPlateau\n",
    "#from tensorflow.keras.applications import VGG16"
   ]
  },
  {
   "cell_type": "code",
   "execution_count": 2,
   "id": "76a4f22b",
   "metadata": {
    "ExecuteTime": {
     "end_time": "2021-08-22T08:36:03.359488Z",
     "start_time": "2021-08-22T08:36:03.315488Z"
    }
   },
   "outputs": [],
   "source": [
    "from tensorflow.keras.preprocessing.image import ImageDataGenerator\n",
    "from tensorflow.keras.callbacks import CSVLogger\n",
    "from tensorflow.keras.callbacks import ModelCheckpoint\n",
    "from tqdm import tqdm\n",
    "\n",
    "#backend.set_image_dim_ordering('th')\n",
    "#backend.image_data_format()"
   ]
  },
  {
   "cell_type": "markdown",
   "id": "3cc03d38",
   "metadata": {},
   "source": [
    "# Load .npz files"
   ]
  },
  {
   "cell_type": "code",
   "execution_count": 3,
   "id": "bb6db9c4",
   "metadata": {
    "ExecuteTime": {
     "end_time": "2021-08-22T08:36:03.374489Z",
     "start_time": "2021-08-22T08:36:03.364490Z"
    }
   },
   "outputs": [],
   "source": [
    "# #### combining the npz\n",
    "npz_path = \"E:/UCF_Crimes/npz_120/\"\n",
    "npz_list = os.listdir(npz_path)"
   ]
  },
  {
   "cell_type": "code",
   "execution_count": 4,
   "id": "fbad8091",
   "metadata": {
    "ExecuteTime": {
     "end_time": "2021-08-22T08:36:03.390488Z",
     "start_time": "2021-08-22T08:36:03.377487Z"
    }
   },
   "outputs": [
    {
     "data": {
      "text/plain": [
       "['crimes_120_0.npz',\n",
       " 'crimes_120_1.npz',\n",
       " 'crimes_120_10.npz',\n",
       " 'crimes_120_11.npz',\n",
       " 'crimes_120_12.npz',\n",
       " 'crimes_120_2.npz',\n",
       " 'crimes_120_3.npz',\n",
       " 'crimes_120_4.npz',\n",
       " 'crimes_120_5.npz',\n",
       " 'crimes_120_6.npz',\n",
       " 'crimes_120_7.npz',\n",
       " 'crimes_120_8.npz',\n",
       " 'crimes_120_9.npz',\n",
       " 'crimes_1_25570.npz',\n",
       " 'crimes_1_25571.npz']"
      ]
     },
     "execution_count": 4,
     "metadata": {},
     "output_type": "execute_result"
    }
   ],
   "source": [
    "npz_list"
   ]
  },
  {
   "cell_type": "code",
   "execution_count": 5,
   "id": "fc00b487",
   "metadata": {
    "ExecuteTime": {
     "end_time": "2021-08-22T08:36:03.406491Z",
     "start_time": "2021-08-22T08:36:03.393489Z"
    }
   },
   "outputs": [],
   "source": [
    "full_npz = itemgetter(0,1,2,6)(npz_list)"
   ]
  },
  {
   "cell_type": "code",
   "execution_count": 6,
   "id": "62904c8a",
   "metadata": {
    "ExecuteTime": {
     "end_time": "2021-08-22T08:36:03.422486Z",
     "start_time": "2021-08-22T08:36:03.409491Z"
    }
   },
   "outputs": [
    {
     "data": {
      "text/plain": [
       "('crimes_1_25570.npz', 'crimes_1_25571.npz')"
      ]
     },
     "execution_count": 6,
     "metadata": {},
     "output_type": "execute_result"
    }
   ],
   "source": [
    "full_npz2 = itemgetter(13,14)(npz_list)\n",
    "full_npz2"
   ]
  },
  {
   "cell_type": "code",
   "execution_count": 7,
   "id": "be907454",
   "metadata": {
    "ExecuteTime": {
     "end_time": "2021-08-22T08:36:03.438487Z",
     "start_time": "2021-08-22T08:36:03.425490Z"
    }
   },
   "outputs": [
    {
     "data": {
      "text/plain": [
       "['E:/UCF_Crimes/npz_120/crimes_120_0.npz',\n",
       " 'E:/UCF_Crimes/npz_120/crimes_120_1.npz',\n",
       " 'E:/UCF_Crimes/npz_120/crimes_120_10.npz',\n",
       " 'E:/UCF_Crimes/npz_120/crimes_120_3.npz']"
      ]
     },
     "execution_count": 7,
     "metadata": {},
     "output_type": "execute_result"
    }
   ],
   "source": [
    "full_npz = [npz_path+npz for npz in full_npz]\n",
    "full_npz"
   ]
  },
  {
   "cell_type": "code",
   "execution_count": 8,
   "id": "2e538bf7",
   "metadata": {
    "ExecuteTime": {
     "end_time": "2021-08-22T08:36:03.454490Z",
     "start_time": "2021-08-22T08:36:03.440488Z"
    }
   },
   "outputs": [
    {
     "data": {
      "text/plain": [
       "['E:/UCF_Crimes/npz_120/crimes_1_25570.npz',\n",
       " 'E:/UCF_Crimes/npz_120/crimes_1_25571.npz']"
      ]
     },
     "execution_count": 8,
     "metadata": {},
     "output_type": "execute_result"
    }
   ],
   "source": [
    "full_npz2 = [npz_path+npz for npz in full_npz2]\n",
    "full_npz2"
   ]
  },
  {
   "cell_type": "code",
   "execution_count": 9,
   "id": "3822de26",
   "metadata": {
    "ExecuteTime": {
     "end_time": "2021-08-22T08:36:03.897485Z",
     "start_time": "2021-08-22T08:36:03.459489Z"
    }
   },
   "outputs": [],
   "source": [
    "data_all = [np.load(fname) for fname in full_npz] "
   ]
  },
  {
   "cell_type": "code",
   "execution_count": 10,
   "id": "a59f1fdb",
   "metadata": {
    "ExecuteTime": {
     "end_time": "2021-08-22T08:36:03.975487Z",
     "start_time": "2021-08-22T08:36:03.900486Z"
    }
   },
   "outputs": [],
   "source": [
    "data_all2 = [np.load(fname) for fname in full_npz2] "
   ]
  },
  {
   "cell_type": "code",
   "execution_count": 11,
   "id": "f028f8a1",
   "metadata": {
    "ExecuteTime": {
     "end_time": "2021-08-22T08:36:31.460490Z",
     "start_time": "2021-08-22T08:36:03.977488Z"
    }
   },
   "outputs": [],
   "source": [
    "images = list()\n",
    "images += [npz['arr_0'] for npz in data_all]"
   ]
  },
  {
   "cell_type": "code",
   "execution_count": 12,
   "id": "8822733b",
   "metadata": {
    "ExecuteTime": {
     "end_time": "2021-08-22T08:36:31.476485Z",
     "start_time": "2021-08-22T08:36:31.462490Z"
    }
   },
   "outputs": [],
   "source": [
    "labels = list()\n",
    "labels += [npz['arr_1'] for npz in data_all]"
   ]
  },
  {
   "cell_type": "code",
   "execution_count": 13,
   "id": "61b4885c",
   "metadata": {
    "ExecuteTime": {
     "end_time": "2021-08-22T08:36:59.797555Z",
     "start_time": "2021-08-22T08:36:31.479490Z"
    }
   },
   "outputs": [],
   "source": [
    "images2 = list()\n",
    "images2 += [npz['arr_0'] for npz in data_all2]"
   ]
  },
  {
   "cell_type": "code",
   "execution_count": 14,
   "id": "e16fc9ad",
   "metadata": {
    "ExecuteTime": {
     "end_time": "2021-08-22T08:36:59.904561Z",
     "start_time": "2021-08-22T08:36:59.834556Z"
    }
   },
   "outputs": [],
   "source": [
    "labels2 = list()\n",
    "labels2 += [npz['arr_1'] for npz in data_all2]"
   ]
  },
  {
   "cell_type": "markdown",
   "id": "e0640a62",
   "metadata": {},
   "source": [
    "## Light Augmenter "
   ]
  },
  {
   "cell_type": "code",
   "execution_count": 15,
   "id": "e2de2ded",
   "metadata": {
    "ExecuteTime": {
     "end_time": "2021-08-22T08:36:59.936556Z",
     "start_time": "2021-08-22T08:36:59.911555Z"
    }
   },
   "outputs": [],
   "source": [
    "def adjust_gamma(img):\n",
    "    ratio = 0.5 / 1\n",
    "    if ratio >= 1:\n",
    "        print(\"Image already bright enough\")\n",
    "        return img\n",
    "\n",
    "    # Otherwise, adjust brightness to get the target brightness\n",
    "    return cv2.convertScaleAbs(img, alpha = 1 / ratio, beta = 0)"
   ]
  },
  {
   "cell_type": "code",
   "execution_count": 16,
   "id": "1166c7a0",
   "metadata": {
    "ExecuteTime": {
     "end_time": "2021-08-22T08:36:59.951556Z",
     "start_time": "2021-08-22T08:36:59.939557Z"
    }
   },
   "outputs": [],
   "source": [
    "def blur(image):\n",
    "    return cv2.blur(image,(5,5))"
   ]
  },
  {
   "cell_type": "code",
   "execution_count": 17,
   "id": "c2b419ac",
   "metadata": {
    "ExecuteTime": {
     "end_time": "2021-08-22T08:37:00.015554Z",
     "start_time": "2021-08-22T08:36:59.955557Z"
    }
   },
   "outputs": [],
   "source": [
    "class CustomAugmentation(object):\n",
    "    \"\"\" Defines a custom augmentation class\"\"\"\n",
    "    \n",
    "    kernel = np.ones((3,3),np.uint8)\n",
    "    \n",
    "    def __init__(self, erosion = False, dilation = False, light = False,\n",
    "                       sharpness = False, blur = False):\n",
    "        self.erosion = erosion\n",
    "        self.dilation = dilation\n",
    "        self.light = light\n",
    "        self.sharpness = sharpness\n",
    "        self.blur = blur\n",
    "    \n",
    "    def __call__(self, img):\n",
    "        \n",
    "        randomNumber = np.random.random()\n",
    "        \n",
    "        # Erosion and dilation are never applied together\n",
    "        \n",
    "        if randomNumber < 0.9:\n",
    "            pass\n",
    "        elif randomNumber < 0.95:\n",
    "            if self.erosion == True:\n",
    "                # Apply erosion 5% of the time if True\n",
    "                img = cv2.erode(img,CustomAugmentation.kernel,iterations = 1)\n",
    "                img = img.reshape(120,120,3)\n",
    "                \n",
    "        elif self.dilation == True:\n",
    "                # Apply dilation 5% of the time if True\n",
    "            img = cv2.dilate(img, CustomAugmentation.kernel,iterations = 1)\n",
    "            img = img.reshape(120,120,3)\n",
    "                \n",
    "        elif self.light == True:\n",
    "            img = adjust_gamma(img)\n",
    "            img = img.reshape(120,120,3)\n",
    "\n",
    "        elif self.sharpness == True:\n",
    "            kernel = np.array([[0, -1, 0], [-1, 5,-1], [0, -1, 0]])\n",
    "            img = cv2.filter2D(img, -1, kernel)\n",
    "            img = img.reshape(120, 120, 3)\n",
    "            \n",
    "        elif self.blur == True:\n",
    "            img = blur(img) if np.random.random()>0.5 else add_sharpness(img)\n",
    "            img = img.reshape(120, 120, 3)\n",
    "                \n",
    "        return img"
   ]
  },
  {
   "cell_type": "markdown",
   "id": "fff98fc6",
   "metadata": {},
   "source": [
    "# Before all, define a custom activation function"
   ]
  },
  {
   "cell_type": "code",
   "execution_count": 18,
   "id": "9e45435f",
   "metadata": {
    "ExecuteTime": {
     "end_time": "2021-08-22T08:37:00.030554Z",
     "start_time": "2021-08-22T08:37:00.018558Z"
    }
   },
   "outputs": [],
   "source": [
    "# custom activation function\n",
    "def custom_activation(output):\n",
    "    logexpsum = backend.sum(backend.exp(output), axis=-1, keepdims=True)\n",
    "    result = logexpsum / (logexpsum + 1.0)\n",
    "    return result"
   ]
  },
  {
   "cell_type": "markdown",
   "id": "c440c820",
   "metadata": {},
   "source": [
    "# Defining the models."
   ]
  },
  {
   "cell_type": "markdown",
   "id": "bb0c987e",
   "metadata": {},
   "source": [
    "## Discriminator (standalone supervised and unsupervised discriminator models)"
   ]
  },
  {
   "cell_type": "code",
   "execution_count": 19,
   "id": "a032487a",
   "metadata": {
    "ExecuteTime": {
     "end_time": "2021-08-22T08:37:00.078556Z",
     "start_time": "2021-08-22T08:37:00.037556Z"
    }
   },
   "outputs": [],
   "source": [
    "# define the standalone supervised and unsupervised discriminator models\n",
    "def define_discriminator(in_shape=(120, 120, 3), n_classes=14):\n",
    "    init = RandomNormal(stddev=0.02)\n",
    "# image input\n",
    "    in_image = Input(shape=in_shape)\n",
    "#downsample\n",
    "    fe = Conv2D(16, (3,3), strides=(2,2), padding='same', kernel_initializer=init)(in_image)\n",
    "    fe = BatchNormalization(axis=1)(fe)\n",
    "    fe = LeakyReLU(alpha=0.4)(fe)\n",
    "\n",
    "# # downsample\n",
    "    fe = Conv2D(32, (3,3), strides=(2,2), padding='same', kernel_initializer=init)(fe)\n",
    "    fe = BatchNormalization(axis=1)(fe)\n",
    "    fe = LeakyReLU(alpha=0.2)(fe)\n",
    "\n",
    "# #downsample\n",
    "    fe = Conv2D(64, (3,3), strides=(2,2), padding='same', kernel_initializer=init)(fe)\n",
    "    fe = BatchNormalization(axis=1)(fe)\n",
    "    fe = LeakyReLU(alpha=0.2)(fe)\n",
    "\n",
    "# downsample\n",
    "    fe = Conv2D(128, (3,3), strides=(2,2), padding='same', kernel_initializer=init)(fe)\n",
    "    fe = BatchNormalization(axis=1)(fe)\n",
    "    fe = LeakyReLU(alpha=0.2)(fe)\n",
    "    \n",
    "# flatten feature maps\n",
    "    fe = Flatten()(fe)\n",
    "# dropout\n",
    "    fe = Dropout(0.4)(fe)\n",
    "# output layer nodes\n",
    "    fe = Dense(n_classes)(fe)#kernel_initializer=init)(fe)\n",
    "# supervised output\n",
    "    c_out_layer = Activation('softmax')(fe)\n",
    "# define and compile supervised discriminator model\n",
    "    c_model = Model(in_image, c_out_layer)\n",
    "    c_model.compile(loss='sparse_categorical_crossentropy', optimizer=Adam(lr=0.0005, beta_1=0.5), metrics=['accuracy'])\n",
    "# unsupervised output\n",
    "    d_out_layer = Lambda(custom_activation)(fe)\n",
    "# define and compile unsupervised discriminator model\n",
    "    d_model = Model(in_image, d_out_layer)\n",
    "    d_model.compile(loss='mse', optimizer=Adam(lr=0.0005, beta_1=0.5))\n",
    "    return d_model, c_model"
   ]
  },
  {
   "cell_type": "markdown",
   "id": "59d9865c",
   "metadata": {},
   "source": [
    "## Classifier (Define the standalone classifier model)"
   ]
  },
  {
   "cell_type": "code",
   "execution_count": 20,
   "id": "4ec395a6",
   "metadata": {
    "ExecuteTime": {
     "end_time": "2021-08-22T08:37:00.109556Z",
     "start_time": "2021-08-22T08:37:00.085554Z"
    }
   },
   "outputs": [],
   "source": [
    "def define_standalone_classifier(in_shape=(120,120,3), n_classes=14):\n",
    "    # image input\n",
    "    in_image = Input(shape=in_shape)\n",
    "    # Conv Layer and downsample\n",
    "    fe = Conv2D(32, (3,3))(in_image)\n",
    "    fe = LeakyReLU(alpha=0)(fe)\n",
    "    fe = BatchNormalization(axis=1)(fe)\n",
    "    fe = MaxPooling2D(pool_size = (2,2))(fe)\n",
    "   # Conv Layer and downsample\n",
    "    fe = Conv2D(32, (3,3))(fe)\n",
    "    fe = LeakyReLU(alpha=0)(fe)\n",
    "    fe = MaxPooling2D(pool_size = (2,2))(fe)\n",
    "    # Conv Layer and downsample\n",
    "    fe = Conv2D(64, (3,3))(fe)\n",
    "    fe = LeakyReLU(alpha=0)(fe)\n",
    "    fe = BatchNormalization(axis=1)(fe)\n",
    "    fe = MaxPooling2D(pool_size = (2,2))(fe)\n",
    "    # Conv Layer and downsample\n",
    "    fe = Conv2D(128, (3,3))(fe)\n",
    "    fe = LeakyReLU(alpha=0)(fe)\n",
    "    fe = MaxPooling2D(pool_size = (2,2))(fe)\n",
    "    # flatten feature maps\n",
    "    fe = Flatten()(fe)\n",
    "    # dropout\n",
    "    fe = Dense(128)(fe)\n",
    "    fe = LeakyReLU(alpha=0)(fe)\n",
    "    fe = Dropout(0.5)(fe)\n",
    "    # output layer nodes\n",
    "    fe = Dense(n_classes)(fe)\n",
    "    # supervised output\n",
    "    c_out_layer = Activation('sigmoid')(fe)\n",
    "    # define and compile standalone classifier model\n",
    "    c_model = Model(in_image, c_out_layer)\n",
    "    c_model.compile(loss='sparse_categorical_crossentropy', optimizer='adam', metrics=['accuracy'])\n",
    "    return c_model"
   ]
  },
  {
   "cell_type": "markdown",
   "id": "7e9265c6",
   "metadata": {},
   "source": [
    "##  Generator"
   ]
  },
  {
   "cell_type": "code",
   "execution_count": 21,
   "id": "b67e0fcd",
   "metadata": {
    "ExecuteTime": {
     "end_time": "2021-08-22T08:37:00.141554Z",
     "start_time": "2021-08-22T08:37:00.112556Z"
    }
   },
   "outputs": [],
   "source": [
    "# define the standalone generator model\n",
    "def define_generator(latent_dim):\n",
    "    init = RandomNormal(stddev=0.02)\n",
    "    #image generator input\n",
    "    in_lat = Input(shape=(latent_dim,))\n",
    "# foundation for 120x120 image (the 15*15 is the 1/8 of the size of the image. metric given by the book)\n",
    "    n_nodes = 128 * 15 * 15\n",
    "    gen = Dense(n_nodes)(in_lat)\n",
    "    gen = LeakyReLU(alpha=0.2)(gen)\n",
    "    gen = Reshape((15, 15, 128))(gen)\n",
    "    # upsample to 30x30\n",
    "    gen = Conv2DTranspose(32, (4,4), strides=(2,2), padding='same', kernel_initializer=init)(gen)\n",
    "    gen = BatchNormalization(axis=1)(gen)\n",
    "    gen = LeakyReLU(alpha=0.4)(gen)\n",
    "#upsample to 60x60\n",
    "    gen = Conv2DTranspose(64, (4,4), strides=(2,2), padding='same', kernel_initializer=init)(gen)\n",
    "    gen = BatchNormalization(axis=1)(gen)\n",
    "    gen = LeakyReLU(alpha=0.4)(gen)\n",
    "# #upsample to 120x120\n",
    "    gen = Conv2DTranspose(128, (4,4), strides=(2,2), padding='same', kernel_initializer=init)(gen)\n",
    "    gen = BatchNormalization(axis=1)(gen)\n",
    "    gen = LeakyReLU(alpha=0.4)(gen)\n",
    "# output\n",
    "    out_layer = Conv2D(3, (15, 15), activation='tanh', padding='same', kernel_initializer=init)(gen)\n",
    "# define model \n",
    "    model = Model(in_lat, out_layer)\n",
    "    return model"
   ]
  },
  {
   "cell_type": "markdown",
   "id": "5265187a",
   "metadata": {},
   "source": [
    "### combined generator and discriminator model (for updating the generator) "
   ]
  },
  {
   "cell_type": "code",
   "execution_count": 22,
   "id": "a0eb34d1",
   "metadata": {
    "ExecuteTime": {
     "end_time": "2021-08-22T08:37:00.157555Z",
     "start_time": "2021-08-22T08:37:00.144557Z"
    }
   },
   "outputs": [],
   "source": [
    "# define the combined generator and discriminator model, for updating the generator\n",
    "def define_gan(g_model, d_model):\n",
    "# make weights in the discriminator not trainable\n",
    "    d_model.trainable = False\n",
    "# connect image output from generator as input to discriminator\n",
    "    gan_output = d_model(g_model.output)\n",
    "# define gan model as taking noise and outputting a classification\n",
    "    model = Model(g_model.input, gan_output)\n",
    "# compile model\n",
    "    opt = Adam(lr=0.0002, beta_1=0.5)\n",
    "    model.compile(loss='mse', optimizer=opt)\n",
    "    return model"
   ]
  },
  {
   "cell_type": "markdown",
   "id": "f8305aae",
   "metadata": {},
   "source": [
    "# select a supervised subset of the dataset"
   ]
  },
  {
   "cell_type": "code",
   "execution_count": 23,
   "id": "168c95f3",
   "metadata": {
    "ExecuteTime": {
     "end_time": "2021-08-22T08:37:00.188554Z",
     "start_time": "2021-08-22T08:37:00.160557Z"
    }
   },
   "outputs": [],
   "source": [
    "def select_supervised_samples(dataset, n_samples=3000, n_classes=14):\n",
    "    X, y = dataset\n",
    "    X_list, y_list = list(), list()\n",
    "    n_per_class = int(n_samples / n_classes)\n",
    "    for n in range (0, 4):\n",
    "        for i in range(n_classes):\n",
    "            # get all images for this class\n",
    "            X_with_class = [X[n]][[y[n]] == i]\n",
    "            # choose random instances\n",
    "            ix = randint(0, len(X_with_class), n_per_class)\n",
    "            # add to list\n",
    "            [X_list.append(X_with_class[j]) for j in ix]\n",
    "            [y_list.append(i) for j in ix]\n",
    "    return asarray(X_list), asarray(y_list) "
   ]
  },
  {
   "cell_type": "code",
   "execution_count": 24,
   "id": "cd1ec484",
   "metadata": {
    "ExecuteTime": {
     "end_time": "2021-08-22T08:37:00.204557Z",
     "start_time": "2021-08-22T08:37:00.191557Z"
    }
   },
   "outputs": [],
   "source": [
    "def select_supervised_samples2(dataset, n_samples=5000, n_classes=14):\n",
    "    X, y = dataset\n",
    "    X_list, y_list = list(), list()\n",
    "    n_per_class = int(n_samples / n_classes)\n",
    "    for n in range (0, 2):\n",
    "        for i in range(n_classes):\n",
    "            # get all images for this class\n",
    "            X_with_class = [X[n]][[y[n]] == i]\n",
    "            # choose random instances\n",
    "            ix = randint(0, len(X_with_class), n_per_class)\n",
    "            # add to list\n",
    "            [X_list.append(X_with_class[j]) for j in ix]\n",
    "            [y_list.append(i) for j in ix]\n",
    "    return asarray(X_list), asarray(y_list) "
   ]
  },
  {
   "cell_type": "markdown",
   "id": "0876b035",
   "metadata": {},
   "source": [
    "# Select random samples from the supervised dataset"
   ]
  },
  {
   "cell_type": "code",
   "execution_count": 25,
   "id": "a42b10da",
   "metadata": {
    "ExecuteTime": {
     "end_time": "2021-08-22T08:37:00.220556Z",
     "start_time": "2021-08-22T08:37:00.206556Z"
    }
   },
   "outputs": [],
   "source": [
    "def generate_real_samples(X, y, n_samples):\n",
    "# split into images and labels\n",
    "    ima = X\n",
    "    lab = y\n",
    "# choose random instances\n",
    "    ix = randint(0, ima.shape[0], n_samples)\n",
    "# select images and labels\n",
    "    X, labels = ima[ix], lab[ix]\n",
    "# generate class labels\n",
    "    y = ones((n_samples, 1))\n",
    "    return [X, lab], y"
   ]
  },
  {
   "cell_type": "code",
   "execution_count": 26,
   "id": "47bc633b",
   "metadata": {
    "ExecuteTime": {
     "end_time": "2021-08-22T08:37:00.252554Z",
     "start_time": "2021-08-22T08:37:00.223557Z"
    }
   },
   "outputs": [],
   "source": [
    "def generate_real_samples2(x, y, n_samples):\n",
    "# split into images and labels\n",
    "    ix = randint(0, x[0].shape[0], n_samples)\n",
    "    im_list = list()\n",
    "    lab_list = list()\n",
    "# select images and labels\n",
    "    for n in range (0, 4): \n",
    "        for i in x[n][ix]:\n",
    "            im_list.append(i)\n",
    "        for c in y[n][ix]:\n",
    "            lab_list.append(c)\n",
    "# generate class labels\n",
    "    y = ones((n_samples*4, 1))\n",
    "    return [asarray(im_list), asarray(lab_list)], y"
   ]
  },
  {
   "cell_type": "markdown",
   "id": "9b2104c3",
   "metadata": {},
   "source": [
    "## generate points in latent space"
   ]
  },
  {
   "cell_type": "code",
   "execution_count": 27,
   "id": "7ea4eb9a",
   "metadata": {
    "ExecuteTime": {
     "end_time": "2021-08-22T08:37:00.283557Z",
     "start_time": "2021-08-22T08:37:00.267555Z"
    }
   },
   "outputs": [],
   "source": [
    "def generate_latent_points(latent_dim, n_samples):\n",
    "\t# generate points in the latent space\n",
    "\tz_input = randn(latent_dim * n_samples)\n",
    "\t# reshape into a batch of inputs for the network\n",
    "\tz_input = z_input.reshape(n_samples, latent_dim)\n",
    "\treturn z_input"
   ]
  },
  {
   "cell_type": "markdown",
   "id": "00e70a5b",
   "metadata": {},
   "source": [
    "## Generate the fake images"
   ]
  },
  {
   "cell_type": "code",
   "execution_count": 28,
   "id": "7041bc2c",
   "metadata": {
    "ExecuteTime": {
     "end_time": "2021-08-22T08:37:00.299557Z",
     "start_time": "2021-08-22T08:37:00.289557Z"
    }
   },
   "outputs": [],
   "source": [
    "# use the generator to generate n fake examples, with class labels\n",
    "def generate_fake_samples(generator, latent_dim, n_samples):\n",
    "# generate points in latent space\n",
    "    z_input = generate_latent_points(latent_dim, n_samples)\n",
    "# predict outputs\n",
    "    images = generator.predict(z_input)\n",
    "# create class labels\n",
    "    y = zeros((n_samples, 1))\n",
    "    return images, y"
   ]
  },
  {
   "cell_type": "markdown",
   "id": "5d12061a",
   "metadata": {},
   "source": [
    "# save as a plot and save the model"
   ]
  },
  {
   "cell_type": "code",
   "execution_count": 29,
   "id": "a1cee53e",
   "metadata": {
    "ExecuteTime": {
     "end_time": "2021-08-22T08:37:00.330558Z",
     "start_time": "2021-08-22T08:37:00.302558Z"
    }
   },
   "outputs": [],
   "source": [
    "def summarize_performance(step, g_model, c_model, latent_dim, dataset, max_acc_c,folder, n_samples=100):\n",
    "    \n",
    "    # prepare fake examples\n",
    "    X, _ = generate_fake_samples(g_model, latent_dim, n_samples)\n",
    "    # scale from [-1,1] to [0,1]\n",
    "    X = (X + 1) / 2.0\n",
    "    # plot images\n",
    "    for i in range(9):\n",
    "        # define subplot\n",
    "        plt.subplot(3, 3, 1 + i)\n",
    "        # turn off axis\n",
    "        plt.axis('off')\n",
    "        # plot raw pixel data\n",
    "        plt.imshow(X[i, :, :, 0])\n",
    "    # save plot to file\n",
    "    filename1 = folder+'/generated_plot_%04d.png' % (step+1)\n",
    "    plt.savefig(filename1)\n",
    "    plt.close()\n",
    "    # evaluate the classifier model\n",
    "    X, y = dataset\n",
    "    for n in range(0, 2):\n",
    "        _, acc = c_model.evaluate(X[n], y[n], verbose=0)\n",
    "        if acc>max_acc_c:\n",
    "            print('Best acc so far! best_acc_c = %.3f%%' % (acc * 300))\n",
    "            max_acc_c = acc\n",
    "            c_model.save(folder+'/c_model_best.h5')\n",
    "        else:\n",
    "            print('Best acc did not improve! best_acc_c = %.3f%%' % (max_acc_c * 300))\n",
    "        \n",
    "            #print('Classifier Accuracy: %.3f%%' % (acc * 100))\n",
    "    # save the generator model\n",
    "    filename2 = folder+'/g_model_%04d.h5' % (step+1)\n",
    "    g_model.save(filename2)\n",
    "    # save the classifier model\n",
    "    filename3 = folder+'/c_model_%04d.h5' % (step+1)\n",
    "    c_model.save(filename3)\n",
    "    print('>Saved: %s, %s, and %s' % (filename1, filename2, filename3))  \n",
    "    \n",
    "    return max_acc_c   \n"
   ]
  },
  {
   "cell_type": "markdown",
   "id": "b02a5ac8",
   "metadata": {},
   "source": [
    "# Training the models"
   ]
  },
  {
   "cell_type": "code",
   "execution_count": 30,
   "id": "f6f535a6",
   "metadata": {
    "ExecuteTime": {
     "end_time": "2021-08-22T08:37:00.378557Z",
     "start_time": "2021-08-22T08:37:00.348559Z"
    }
   },
   "outputs": [],
   "source": [
    "earlystop = EarlyStopping(monitor = 'accuracy', \n",
    "                          min_delta = 0, \n",
    "                          patience = 5,\n",
    "                          verbose = 1,\n",
    "                          restore_best_weights = True)\n",
    "\n",
    "reduce_lr = ReduceLROnPlateau(monitor = 'accuracy',\n",
    "                              factor = 0.2,\n",
    "                              patience = 6,\n",
    "                              verbose = 1,\n",
    "                              min_delta = 0.0001)\n",
    "\n",
    "# we put our call backs into a callback list\n",
    "callbacks = [earlystop, reduce_lr]"
   ]
  },
  {
   "cell_type": "code",
   "execution_count": 31,
   "id": "127a9bd9",
   "metadata": {
    "ExecuteTime": {
     "end_time": "2021-08-22T08:37:00.394556Z",
     "start_time": "2021-08-22T08:37:00.381558Z"
    }
   },
   "outputs": [],
   "source": [
    "preprocesor = CustomAugmentation(erosion=False, dilation= False, light= True, sharpness = True, blur = False)"
   ]
  },
  {
   "cell_type": "code",
   "execution_count": 32,
   "id": "ec2cf74e",
   "metadata": {
    "ExecuteTime": {
     "end_time": "2021-08-22T08:37:00.441557Z",
     "start_time": "2021-08-22T08:37:00.397558Z"
    }
   },
   "outputs": [],
   "source": [
    "def train(g_model, d_model, c_model, gan_model, dataset, latent_dim,folder,n_samples, n_epochs=50, n_batch=100, with_aug=True):\n",
    "    \n",
    "    max_acc_c =0\n",
    "    # select supervised dataset\n",
    "    X_sup, y_sup = select_supervised_samples(dataset,n_samples)\n",
    "    \n",
    "    X_val, y_val = select_supervised_samples2(dataset,n_samples)\n",
    "    \n",
    "    print(X_sup.shape, y_sup.shape)\n",
    "    # calculate the number of batches per training epoch\n",
    "    bat_per_epo = int(dataset[0][0].shape[0] / n_batch)\n",
    "    # calculate the number of training iterations\n",
    "    n_steps = bat_per_epo * n_epochs\n",
    "    # calculate the size of half a batch of samples\n",
    "    half_batch = int(n_batch / 2)\n",
    "    \n",
    "    if(with_aug):\n",
    "        train_datagen = ImageDataGenerator( preprocessing_function = preprocesor) #rotation_range = 10,\n",
    "                             #zoom_range = 0.3, width_shift_range = 0.2, height_shift_range = 0.2 )\n",
    "\n",
    "    else:\n",
    "        train_datagen = ImageDataGenerator(\n",
    "                horizontal_flip=False)  \n",
    "        \n",
    "        \n",
    "    print('n_epochs=%d, n_batch=%d, 1/2=%d, b/e=%d, steps=%d' % (n_epochs, n_batch, half_batch, bat_per_epo, n_steps))\n",
    "    # manually enumerate epochs, get one \n",
    "    for i in range(n_epochs):\n",
    "        print(\"Epoch {}/{}\".format(i, n_epochs))\n",
    "        flow_iter = train_datagen.flow(X_sup, y_sup, half_batch) #this is an enumerator for random half-batches\n",
    "        with tqdm(total = bat_per_epo, position = 0, leave=True) as progress_bar:\n",
    "            for j, [Xsup_real, ysup_real] in enumerate(flow_iter):\n",
    "                if j >= bat_per_epo:\n",
    "                    break #the enumerator itself will run forever, stop on expected number of batches\n",
    "                progress_bar.update(1)\n",
    "                \n",
    "                c_model.fit(Xsup_real, ysup_real, validation_data = (X_val, y_val), callbacks = callbacks, verbose=0)\n",
    "                \n",
    "                # update unsupervised discriminator (d)\n",
    "                [X_real, _], y_real = generate_real_samples2(images, labels, half_batch) #generate real, but not labeled samples for the discriminator\n",
    "                d_model.train_on_batch(X_real, y_real)\n",
    "                \n",
    "                X_fake, y_fake = generate_fake_samples(g_model, latent_dim, half_batch)\n",
    "                d_model.train_on_batch(X_fake, y_fake)\n",
    "                \n",
    "                # update generator (g)\n",
    "                X_gan, y_gan = generate_latent_points(latent_dim, n_batch), ones((n_batch, 1))\n",
    "                gan_model.train_on_batch(X_gan, y_gan)\n",
    "\n",
    "        max_acc_c= summarize_performance(i, g_model, c_model, latent_dim, dataset2, max_acc_c, folder)"
   ]
  },
  {
   "cell_type": "code",
   "execution_count": 33,
   "id": "2c666743",
   "metadata": {
    "ExecuteTime": {
     "end_time": "2021-08-22T08:37:00.457555Z",
     "start_time": "2021-08-22T08:37:00.444557Z"
    }
   },
   "outputs": [],
   "source": [
    "# # train the standalone classifier\n",
    "# def train_stand_alone_c(c_model, dataset, folder, n_epochs=50, n_batch=100, n_samples=100,n_classes=14,with_aug=True):\n",
    "#     max_acc_c = 0\n",
    "#     # select supervised dataset\n",
    "#     X_sup, y_sup = select_supervised_samples(dataset,n_samples,n_classes)\n",
    "#     print(X_sup.shape, y_sup.shape)\n",
    "#     # calculate the number of batches per training epoch\n",
    "#     bat_per_epo = int(X_sup.shape[0] / n_batch)\n",
    "#     # calculate the number of training iterations\n",
    "#     n_steps = bat_per_epo * n_epochs\n",
    "#     # calculate the size of half a batch of samples\n",
    "#     half_batch = int(n_batch / 2)\n",
    "#     print('n_epochs=%d, n_batch=%d, 1/2=%d, b/e=%d, steps=%d' % (n_epochs, n_batch, half_batch, bat_per_epo, n_steps))\n",
    "#     # manually enumerate epochs\n",
    "    \n",
    "#     test_datagen = ImageDataGenerator()\n",
    "    \n",
    "#     if(with_aug):\n",
    "#         train_datagen = ImageDataGenerator(\n",
    "#                 rotation_range = 20,\n",
    "#                 width_shift_range = 0.1,\n",
    "#                 height_shift_range = 0.1,\n",
    "#                 shear_range=0.2,\n",
    "#                 zoom_range=0.2)\n",
    "#     else:\n",
    "#         train_datagen = ImageDataGenerator(\n",
    "#                 horizontal_flip=False)\n",
    "    \n",
    "#     train_dgi = train_datagen.flow(X_sup, y_sup, n_batch)\n",
    "#     X_all, y_all = dataset \n",
    "#     test_dgi = test_datagen.flow(X_all, y_all, 64)\n",
    "#     print(test_dgi.n)\n",
    "    \n",
    "#     csv_logger = CSVLogger(folder +'/training.log')\n",
    "#     check_point = ModelCheckpoint(folder+\"/c_model_best.h5\", monitor = \"val_acc\", verbose =1, save_best_only = True,mode = \"max\") \n",
    "#     c_model.fit_generator(train_dgi,\n",
    "#             steps_per_epoch=bat_per_epo,\n",
    "#             epochs=n_epochs,\n",
    "#             validation_data = test_dgi,\n",
    "#             validation_steps = test_dgi.n//(4*64),\n",
    "#             callbacks = [csv_logger, check_point])"
   ]
  },
  {
   "cell_type": "markdown",
   "id": "ef157222",
   "metadata": {},
   "source": [
    "## size of the latent space"
   ]
  },
  {
   "cell_type": "code",
   "execution_count": 34,
   "id": "077bd7c1",
   "metadata": {
    "ExecuteTime": {
     "end_time": "2021-08-22T08:37:00.473554Z",
     "start_time": "2021-08-22T08:37:00.460563Z"
    }
   },
   "outputs": [],
   "source": [
    "# size of the latent space\n",
    "latent_dim = 100\n",
    "#number of classes\n",
    "n_classes=14\n",
    "#number of labled samples\n",
    "#arr_n_samples = [50,100,150,200,500,700,1000,2000,3000,4000,5000]\n",
    "arr_n_samples = [2000]\n",
    " #batch sizes (for standalone classifier)\n",
    "#n_batches = [8,8,8,16,16,32,32,32,32,64,64] \n",
    "n_batches = [64]  \n",
    "\n",
    "stand_alone_flag = False #Change this for SGAN/STANDALONE\n",
    "augmentation_flag = True #Change this for AUG/NO_AUG"
   ]
  },
  {
   "cell_type": "markdown",
   "id": "165c90d4",
   "metadata": {},
   "source": [
    "## Assigning the dataset"
   ]
  },
  {
   "cell_type": "code",
   "execution_count": 35,
   "id": "d2fed85d",
   "metadata": {
    "ExecuteTime": {
     "end_time": "2021-08-22T08:37:00.489554Z",
     "start_time": "2021-08-22T08:37:00.475556Z"
    }
   },
   "outputs": [],
   "source": [
    "dataset = images, labels"
   ]
  },
  {
   "cell_type": "code",
   "execution_count": 36,
   "id": "7f20da90",
   "metadata": {
    "ExecuteTime": {
     "end_time": "2021-08-22T08:37:00.505555Z",
     "start_time": "2021-08-22T08:37:00.496558Z"
    }
   },
   "outputs": [],
   "source": [
    "dataset2 = images2, labels2 "
   ]
  },
  {
   "cell_type": "markdown",
   "id": "a652a667",
   "metadata": {},
   "source": [
    "## train model"
   ]
  },
  {
   "cell_type": "code",
   "execution_count": null,
   "id": "00dc0423",
   "metadata": {
    "ExecuteTime": {
     "start_time": "2021-08-22T08:35:53.507Z"
    },
    "scrolled": true
   },
   "outputs": [
    {
     "name": "stdout",
     "output_type": "stream",
     "text": [
      "(7952, 120, 120, 3) (7952,)\n",
      "n_epochs=50, n_batch=100, 1/2=50, b/e=99, steps=4950\n",
      "Epoch 0/50\n"
     ]
    },
    {
     "name": "stderr",
     "output_type": "stream",
     "text": [
      "100%|██████████████████████████████████████████████████████████████████████████████████| 99/99 [08:57<00:00,  5.43s/it]\n"
     ]
    },
    {
     "name": "stdout",
     "output_type": "stream",
     "text": [
      "Best acc so far! best_acc_c = 16.537%\n",
      "Best acc did not improve! best_acc_c = 16.537%\n"
     ]
    },
    {
     "name": "stderr",
     "output_type": "stream",
     "text": [
      "\r",
      "  0%|                                                                                           | 0/99 [00:00<?, ?it/s]"
     ]
    },
    {
     "name": "stdout",
     "output_type": "stream",
     "text": [
      ">Saved: testSGAN_with_aug2000/generated_plot_0001.png, testSGAN_with_aug2000/g_model_0001.h5, and testSGAN_with_aug2000/c_model_0001.h5\n",
      "Epoch 1/50\n"
     ]
    },
    {
     "name": "stderr",
     "output_type": "stream",
     "text": [
      "100%|██████████████████████████████████████████████████████████████████████████████████| 99/99 [06:54<00:00,  4.18s/it]\n"
     ]
    },
    {
     "name": "stdout",
     "output_type": "stream",
     "text": [
      "Best acc so far! best_acc_c = 19.418%\n"
     ]
    },
    {
     "name": "stderr",
     "output_type": "stream",
     "text": [
      "\r",
      "  0%|                                                                                           | 0/99 [00:00<?, ?it/s]"
     ]
    },
    {
     "name": "stdout",
     "output_type": "stream",
     "text": [
      "Best acc did not improve! best_acc_c = 19.418%\n",
      ">Saved: testSGAN_with_aug2000/generated_plot_0002.png, testSGAN_with_aug2000/g_model_0002.h5, and testSGAN_with_aug2000/c_model_0002.h5\n",
      "Epoch 2/50\n"
     ]
    },
    {
     "name": "stderr",
     "output_type": "stream",
     "text": [
      "100%|██████████████████████████████████████████████████████████████████████████████████| 99/99 [06:28<00:00,  3.93s/it]\n"
     ]
    },
    {
     "name": "stdout",
     "output_type": "stream",
     "text": [
      "Best acc so far! best_acc_c = 21.429%\n"
     ]
    },
    {
     "name": "stderr",
     "output_type": "stream",
     "text": [
      "\r",
      "  0%|                                                                                           | 0/99 [00:00<?, ?it/s]"
     ]
    },
    {
     "name": "stdout",
     "output_type": "stream",
     "text": [
      "Best acc did not improve! best_acc_c = 21.429%\n",
      ">Saved: testSGAN_with_aug2000/generated_plot_0003.png, testSGAN_with_aug2000/g_model_0003.h5, and testSGAN_with_aug2000/c_model_0003.h5\n",
      "Epoch 3/50\n"
     ]
    },
    {
     "name": "stderr",
     "output_type": "stream",
     "text": [
      " 62%|██████████████████████████████████████████████████▌                               | 61/99 [03:56<02:30,  3.97s/it]"
     ]
    }
   ],
   "source": [
    "if stand_alone_flag:\n",
    "    for i in range(np.size(arr_n_samples ,0)):\n",
    "        if augmentation_flag:\n",
    "            folder = \"testStandAlone_with_aug\"+str(arr_n_samples[i])\n",
    "        else:\n",
    "            folder = \"testStandAlone_without_aug\"+str(arr_n_samples[i])\n",
    "        if not os.path.exists(\"./\"+folder+\"/\"):\n",
    "                        os.makedirs(\"./\"+folder+\"/\")\n",
    "        \n",
    "       \n",
    "        # create the standalone classifier\n",
    "        c_model = define_standalone_classifier(n_classes=n_classes)\n",
    "    \n",
    "        # load image data\n",
    "        dataset = images, labels\n",
    "        # train model\n",
    "        n_batch = n_batches[i]\n",
    "        train_stand_alone_c(c_model, dataset, folder, n_samples=arr_n_samples[i],n_epochs=200, n_batch=n_batch, n_classes=n_classes, with_aug=augmentation_flag)\n",
    "\n",
    "else:   \n",
    "    for i in range(np.size(arr_n_samples ,0)):\n",
    "        if augmentation_flag:\n",
    "            folder = \"testSGAN_with_aug\"+str(arr_n_samples[i])\n",
    "        else:\n",
    "            folder = \"testSGAN_without_aug\"+str(arr_n_samples[i])\n",
    "        \n",
    "        if not os.path.exists(\"./\"+folder+\"/\"):\n",
    "                        os.makedirs(\"./\"+folder+\"/\")\n",
    "        \n",
    "        # create the discriminator models\n",
    "        d_model, c_model = define_discriminator()\n",
    "        # create the generator\n",
    "        g_model = define_generator(latent_dim)\n",
    "        # create the gan\n",
    "        gan_model = define_gan(g_model, d_model)\n",
    "        # load image data\n",
    "        dataset = images, labels\n",
    "        # train model\n",
    "        train(g_model, d_model, c_model, gan_model, dataset, latent_dim, folder, n_samples=arr_n_samples[i], with_aug = augmentation_flag)"
   ]
  },
  {
   "cell_type": "code",
   "execution_count": null,
   "id": "08a99caf",
   "metadata": {},
   "outputs": [],
   "source": []
  }
 ],
 "metadata": {
  "kernelspec": {
   "display_name": "Python 3.7 (tf-latest)",
   "language": "python",
   "name": "tf-latest"
  },
  "language_info": {
   "codemirror_mode": {
    "name": "ipython",
    "version": 3
   },
   "file_extension": ".py",
   "mimetype": "text/x-python",
   "name": "python",
   "nbconvert_exporter": "python",
   "pygments_lexer": "ipython3",
   "version": "3.8.8"
  },
  "toc": {
   "base_numbering": 1,
   "nav_menu": {},
   "number_sections": true,
   "sideBar": true,
   "skip_h1_title": false,
   "title_cell": "Table of Contents",
   "title_sidebar": "Contents",
   "toc_cell": false,
   "toc_position": {},
   "toc_section_display": true,
   "toc_window_display": false
  },
  "varInspector": {
   "cols": {
    "lenName": 16,
    "lenType": 16,
    "lenVar": 40
   },
   "kernels_config": {
    "python": {
     "delete_cmd_postfix": "",
     "delete_cmd_prefix": "del ",
     "library": "var_list.py",
     "varRefreshCmd": "print(var_dic_list())"
    },
    "r": {
     "delete_cmd_postfix": ") ",
     "delete_cmd_prefix": "rm(",
     "library": "var_list.r",
     "varRefreshCmd": "cat(var_dic_list()) "
    }
   },
   "types_to_exclude": [
    "module",
    "function",
    "builtin_function_or_method",
    "instance",
    "_Feature"
   ],
   "window_display": false
  }
 },
 "nbformat": 4,
 "nbformat_minor": 5
}
