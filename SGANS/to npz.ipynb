{
 "cells": [
  {
   "cell_type": "code",
   "execution_count": 1,
   "id": "2b53a714",
   "metadata": {
    "ExecuteTime": {
     "end_time": "2021-07-28T08:26:09.392327Z",
     "start_time": "2021-07-28T08:25:58.214947Z"
    }
   },
   "outputs": [],
   "source": [
    "from os import listdir\n",
    "from numpy import asarray\n",
    "from tensorflow.keras.preprocessing.image import img_to_array\n",
    "from tensorflow.keras.preprocessing.image import load_img\n",
    "from numpy import savez_compressed\n",
    "import tensorflow.experimental.numpy as tnp"
   ]
  },
  {
   "cell_type": "code",
   "execution_count": 2,
   "id": "0f530ced",
   "metadata": {
    "ExecuteTime": {
     "end_time": "2021-07-28T08:26:09.435542Z",
     "start_time": "2021-07-28T08:26:09.424994Z"
    }
   },
   "outputs": [],
   "source": [
    "train = 'E:/UCF_Crimes/train_frames/' \n",
    "test = 'E:/UCF_Crimes/test_frames_label/'"
   ]
  },
  {
   "cell_type": "markdown",
   "id": "c877e1d6",
   "metadata": {},
   "source": [
    "# Train images"
   ]
  },
  {
   "cell_type": "code",
   "execution_count": 3,
   "id": "e3fbbcf0",
   "metadata": {
    "ExecuteTime": {
     "end_time": "2021-07-11T05:35:31.399486Z",
     "start_time": "2021-07-11T05:15:30.103655Z"
    }
   },
   "outputs": [],
   "source": [
    "images_train= os.listdir(train)"
   ]
  },
  {
   "cell_type": "code",
   "execution_count": 4,
   "id": "0dd2ffa9",
   "metadata": {
    "ExecuteTime": {
     "end_time": "2021-07-11T05:35:39.573546Z",
     "start_time": "2021-07-11T05:35:35.264489Z"
    }
   },
   "outputs": [],
   "source": [
    "categories_train = []\n",
    "\n",
    "for filename in images_train:\n",
    "    category = filename.split('_')[0] #el split, 3 elementos. el 0 es Dog or Cat\n",
    "    if category == 'Abuse':\n",
    "        categories_train.append(1)\n",
    "    elif category == 'Arrest':\n",
    "        categories_train.append(2)\n",
    "    elif category == 'Arson':\n",
    "        categories_train.append(3)\n",
    "    elif category == 'Assault':\n",
    "        categories_train.append(4)\n",
    "    elif category == 'Burglary':\n",
    "        categories_train.append(5)\n",
    "    elif category == 'Explosion':\n",
    "        categories_train.append(6)\n",
    "    elif category == 'Fighting':\n",
    "        categories_train.append(7)\n",
    "    elif category == 'RoadAccidents':\n",
    "        categories_train.append(8)\n",
    "    elif category == 'Robbery':\n",
    "        categories_train.append(9)\n",
    "    elif category == 'Shooting':\n",
    "        categories_train.append(10)\n",
    "    elif category == 'Shoplifting':\n",
    "        categories_train.append(11)\n",
    "    elif category == 'Stealing':\n",
    "        categories_train.append(12)\n",
    "    elif category == 'NormalVideos':\n",
    "        categories_train.append(13)\n",
    "    elif category == 'Vandalism':\n",
    "        categories_train.append(14)\n",
    "    else:\n",
    "        categories.append(0)\n",
    "\n",
    "df_train = pd.DataFrame({\n",
    "    'filename': images_train,\n",
    "    'category': categories_train})"
   ]
  },
  {
   "cell_type": "code",
   "execution_count": 5,
   "id": "470714ee",
   "metadata": {
    "ExecuteTime": {
     "end_time": "2021-07-11T05:35:42.965928Z",
     "start_time": "2021-07-11T05:35:42.939897Z"
    }
   },
   "outputs": [
    {
     "data": {
      "text/html": [
       "<div>\n",
       "<style scoped>\n",
       "    .dataframe tbody tr th:only-of-type {\n",
       "        vertical-align: middle;\n",
       "    }\n",
       "\n",
       "    .dataframe tbody tr th {\n",
       "        vertical-align: top;\n",
       "    }\n",
       "\n",
       "    .dataframe thead th {\n",
       "        text-align: right;\n",
       "    }\n",
       "</style>\n",
       "<table border=\"1\" class=\"dataframe\">\n",
       "  <thead>\n",
       "    <tr style=\"text-align: right;\">\n",
       "      <th></th>\n",
       "      <th>filename</th>\n",
       "      <th>category</th>\n",
       "    </tr>\n",
       "  </thead>\n",
       "  <tbody>\n",
       "    <tr>\n",
       "      <th>0</th>\n",
       "      <td>Abuse_1.jpg</td>\n",
       "      <td>1</td>\n",
       "    </tr>\n",
       "    <tr>\n",
       "      <th>1</th>\n",
       "      <td>Abuse_10.jpg</td>\n",
       "      <td>1</td>\n",
       "    </tr>\n",
       "    <tr>\n",
       "      <th>2</th>\n",
       "      <td>Abuse_100.jpg</td>\n",
       "      <td>1</td>\n",
       "    </tr>\n",
       "    <tr>\n",
       "      <th>3</th>\n",
       "      <td>Abuse_1000.jpg</td>\n",
       "      <td>1</td>\n",
       "    </tr>\n",
       "    <tr>\n",
       "      <th>4</th>\n",
       "      <td>Abuse_10000.jpg</td>\n",
       "      <td>1</td>\n",
       "    </tr>\n",
       "  </tbody>\n",
       "</table>\n",
       "</div>"
      ],
      "text/plain": [
       "          filename  category\n",
       "0      Abuse_1.jpg         1\n",
       "1     Abuse_10.jpg         1\n",
       "2    Abuse_100.jpg         1\n",
       "3   Abuse_1000.jpg         1\n",
       "4  Abuse_10000.jpg         1"
      ]
     },
     "execution_count": 5,
     "metadata": {},
     "output_type": "execute_result"
    }
   ],
   "source": [
    "df_train.head()"
   ]
  },
  {
   "cell_type": "code",
   "execution_count": 43,
   "id": "7bc9dbd5",
   "metadata": {
    "ExecuteTime": {
     "end_time": "2021-07-11T05:57:26.877699Z",
     "start_time": "2021-07-11T05:57:26.844133Z"
    }
   },
   "outputs": [],
   "source": [
    "a = df_train[(df_train.category == 2)]"
   ]
  },
  {
   "cell_type": "markdown",
   "id": "5ef7716f",
   "metadata": {},
   "source": [
    "# Test images"
   ]
  },
  {
   "cell_type": "code",
   "execution_count": null,
   "id": "ea13de7b",
   "metadata": {
    "ExecuteTime": {
     "start_time": "2021-07-28T08:27:21.377Z"
    }
   },
   "outputs": [],
   "source": [
    "images_test= os.listdir(test)"
   ]
  },
  {
   "cell_type": "code",
   "execution_count": null,
   "id": "bfb0d9fe",
   "metadata": {},
   "outputs": [],
   "source": [
    "categories_train = []\n",
    "\n",
    "for filename in images_test:\n",
    "    category = filename.split('_')[0] #el split, 3 elementos. el 0 es Dog or Cat\n",
    "    if category == 'Abuse':\n",
    "        categories_train.append(1)\n",
    "    elif category == 'Arrest':\n",
    "        categories_train.append(2)\n",
    "    elif category == 'Arson':\n",
    "        categories_train.append(3)\n",
    "    elif category == 'Assault':\n",
    "        categories_train.append(4)\n",
    "    elif category == 'Burglary':\n",
    "        categories_train.append(5)\n",
    "    elif category == 'Explosion':\n",
    "        categories_train.append(6)\n",
    "    elif category == 'Fighting':\n",
    "        categories_train.append(7)\n",
    "    elif category == 'RoadAccidents':\n",
    "        categories_train.append(8)\n",
    "    elif category == 'Robbery':\n",
    "        categories_train.append(9)\n",
    "    elif category == 'Shooting':\n",
    "        categories_train.append(10)\n",
    "    elif category == 'Shoplifting':\n",
    "        categories_train.append(11)\n",
    "    elif category == 'Stealing':\n",
    "        categories_train.append(12)\n",
    "    elif category == 'NormalVideos':\n",
    "        categories_train.append(13)\n",
    "    elif category == 'Vandalism':\n",
    "        categories_train.append(14)\n",
    "    else:\n",
    "        categories.append(0)\n",
    "\n",
    "df_test = pd.DataFrame({\n",
    "    'filename': images_train,\n",
    "    'category': categories_train})"
   ]
  },
  {
   "cell_type": "code",
   "execution_count": null,
   "id": "2a97758b",
   "metadata": {},
   "outputs": [],
   "source": [
    "df_test.head()"
   ]
  },
  {
   "cell_type": "code",
   "execution_count": null,
   "id": "009f57bc",
   "metadata": {},
   "outputs": [],
   "source": []
  },
  {
   "cell_type": "code",
   "execution_count": null,
   "id": "9260537b",
   "metadata": {},
   "outputs": [],
   "source": []
  },
  {
   "cell_type": "code",
   "execution_count": null,
   "id": "5ed7e18f",
   "metadata": {},
   "outputs": [],
   "source": []
  },
  {
   "cell_type": "code",
   "execution_count": null,
   "id": "ac63ef0c",
   "metadata": {
    "ExecuteTime": {
     "end_time": "2021-07-11T04:34:39.266367Z",
     "start_time": "2021-07-11T04:34:39.241122Z"
    }
   },
   "outputs": [],
   "source": [
    "# froom = 0\n",
    "# to = 40000\n",
    "# len(df_train.filename.loc[froom:to-1])"
   ]
  },
  {
   "cell_type": "code",
   "execution_count": 45,
   "id": "1709e056",
   "metadata": {
    "ExecuteTime": {
     "end_time": "2021-07-11T06:10:19.612699Z",
     "start_time": "2021-07-11T06:10:19.605897Z"
    }
   },
   "outputs": [],
   "source": [
    "# with_indexes = a.iloc[ix]"
   ]
  },
  {
   "cell_type": "code",
   "execution_count": null,
   "id": "e463c0d4",
   "metadata": {
    "ExecuteTime": {
     "end_time": "2021-07-11T04:46:53.742576Z",
     "start_time": "2021-07-11T04:46:53.733316Z"
    }
   },
   "outputs": [],
   "source": [
    "def load_images(path, size=(150,150)):\n",
    "    src_list= list()\n",
    "    lab_list= list()\n",
    "    # enumerate filenames in directory, assume all are images\n",
    "    for filename in df_train.filename.loc[froom:to-1]:\n",
    "        # load and resize the image\n",
    "        pixels = load_img(path + filename, target_size=size)\n",
    "        # convert to numpy array\n",
    "        pixels = img_to_array(pixels)\n",
    "        # split into satellite and map\n",
    "        sat_img = pixels[:, :150]\n",
    "        src_list.append(sat_img)\n",
    "        \n",
    "    for labels in df_train.category.loc[froom:to-1]:\n",
    "        lab_list.append(labels)\n",
    "        \n",
    "    return [asarray(src_list)],[asarray(lab_list)]"
   ]
  },
  {
   "cell_type": "markdown",
   "id": "232066b9",
   "metadata": {},
   "source": [
    "## imagenes normales"
   ]
  },
  {
   "cell_type": "code",
   "execution_count": null,
   "id": "e38bec9e",
   "metadata": {
    "ExecuteTime": {
     "end_time": "2021-07-11T04:58:09.471192Z",
     "start_time": "2021-07-11T04:46:57.355806Z"
    }
   },
   "outputs": [],
   "source": [
    "[src_images, lab_list] = load_images(train)\n",
    "#print(\"Loaded: \", len(src_images), len(lab_list))\n",
    "# save as compressed numpy array\n",
    "filename1 = \"E:/UCF_Crimes/crimes-150_150.npz\"\n",
    "savez_compressed(filename1, src_images, lab_list)\n",
    "print(\"Saved dataset: \", filename)"
   ]
  },
  {
   "cell_type": "code",
   "execution_count": null,
   "id": "f8eaf36f",
   "metadata": {},
   "outputs": [],
   "source": [
    "[src_images, tar_images] = load_images(path)"
   ]
  },
  {
   "cell_type": "markdown",
   "id": "e4165b14",
   "metadata": {},
   "source": [
    "## con imagenes ya preprocesadas"
   ]
  },
  {
   "cell_type": "code",
   "execution_count": 89,
   "id": "90ccc077",
   "metadata": {
    "ExecuteTime": {
     "end_time": "2021-07-11T07:27:20.609938Z",
     "start_time": "2021-07-11T07:27:20.602939Z"
    }
   },
   "outputs": [],
   "source": [
    "n_samples = 10000\n",
    "n_classes = 14"
   ]
  },
  {
   "cell_type": "code",
   "execution_count": null,
   "id": "2e20cd36",
   "metadata": {},
   "outputs": [],
   "source": [
    "def change_to_right(wrong_labels):\n",
    "    right_labels=[]\n",
    "    for x in wrong_labels:\n",
    "        for i in range(0,len(wrong_labels[0])):\n",
    "            if x[i]==1:\n",
    "                right_labels.append(i+1)\n",
    "    return right_labels"
   ]
  },
  {
   "cell_type": "code",
   "execution_count": 93,
   "id": "0a1b222c",
   "metadata": {
    "ExecuteTime": {
     "end_time": "2021-07-11T07:54:59.535284Z",
     "start_time": "2021-07-11T07:33:00.928102Z"
    }
   },
   "outputs": [
    {
     "ename": "MemoryError",
     "evalue": "Unable to allocate 10.1 GiB for an array with shape (40000, 150, 150, 3) and data type float32",
     "output_type": "error",
     "traceback": [
      "\u001b[1;31m---------------------------------------------------------------------------\u001b[0m",
      "\u001b[1;31mMemoryError\u001b[0m                               Traceback (most recent call last)",
      "\u001b[1;32m<ipython-input-93-a12c44f38ade>\u001b[0m in \u001b[0;36m<module>\u001b[1;34m\u001b[0m\n\u001b[0;32m      2\u001b[0m     \u001b[0mX_list\u001b[0m\u001b[1;33m,\u001b[0m \u001b[0my_list\u001b[0m \u001b[1;33m=\u001b[0m \u001b[0mlist\u001b[0m\u001b[1;33m(\u001b[0m\u001b[1;33m)\u001b[0m\u001b[1;33m,\u001b[0m \u001b[0mlist\u001b[0m\u001b[1;33m(\u001b[0m\u001b[1;33m)\u001b[0m\u001b[1;33m\u001b[0m\u001b[1;33m\u001b[0m\u001b[0m\n\u001b[0;32m      3\u001b[0m     \u001b[0mimages\u001b[0m \u001b[1;33m=\u001b[0m \u001b[0mtrain_generator\u001b[0m\u001b[1;33m[\u001b[0m\u001b[0mn\u001b[0m\u001b[1;33m]\u001b[0m\u001b[1;33m[\u001b[0m\u001b[1;36m0\u001b[0m\u001b[1;33m]\u001b[0m\u001b[1;33m\u001b[0m\u001b[1;33m\u001b[0m\u001b[0m\n\u001b[1;32m----> 4\u001b[1;33m     \u001b[0mlabels\u001b[0m \u001b[1;33m=\u001b[0m \u001b[0mtnp\u001b[0m\u001b[1;33m.\u001b[0m\u001b[0marray\u001b[0m\u001b[1;33m(\u001b[0m\u001b[0mchange_to_right\u001b[0m\u001b[1;33m(\u001b[0m\u001b[0mtrain_generator\u001b[0m\u001b[1;33m[\u001b[0m\u001b[0mn\u001b[0m\u001b[1;33m]\u001b[0m\u001b[1;33m[\u001b[0m\u001b[1;36m1\u001b[0m\u001b[1;33m]\u001b[0m\u001b[1;33m)\u001b[0m\u001b[1;33m)\u001b[0m \u001b[1;31m#tf.convert_to_tensor() va antes de todo\u001b[0m\u001b[1;33m\u001b[0m\u001b[1;33m\u001b[0m\u001b[0m\n\u001b[0m\u001b[0;32m      5\u001b[0m     \u001b[0mn_per_class\u001b[0m \u001b[1;33m=\u001b[0m \u001b[0mint\u001b[0m\u001b[1;33m(\u001b[0m\u001b[0mn_samples\u001b[0m \u001b[1;33m/\u001b[0m \u001b[0mn_classes\u001b[0m\u001b[1;33m)\u001b[0m\u001b[1;33m\u001b[0m\u001b[1;33m\u001b[0m\u001b[0m\n\u001b[0;32m      6\u001b[0m     \u001b[1;32mfor\u001b[0m \u001b[0mi\u001b[0m \u001b[1;32min\u001b[0m \u001b[0mrange\u001b[0m\u001b[1;33m(\u001b[0m\u001b[1;36m1\u001b[0m\u001b[1;33m,\u001b[0m \u001b[1;36m15\u001b[0m\u001b[1;33m)\u001b[0m\u001b[1;33m:\u001b[0m\u001b[1;33m\u001b[0m\u001b[1;33m\u001b[0m\u001b[0m\n",
      "\u001b[1;32m~\\AppData\\Roaming\\Python\\Python38\\site-packages\\keras_preprocessing\\image\\iterator.py\u001b[0m in \u001b[0;36m__getitem__\u001b[1;34m(self, idx)\u001b[0m\n\u001b[0;32m     63\u001b[0m         index_array = self.index_array[self.batch_size * idx:\n\u001b[0;32m     64\u001b[0m                                        self.batch_size * (idx + 1)]\n\u001b[1;32m---> 65\u001b[1;33m         \u001b[1;32mreturn\u001b[0m \u001b[0mself\u001b[0m\u001b[1;33m.\u001b[0m\u001b[0m_get_batches_of_transformed_samples\u001b[0m\u001b[1;33m(\u001b[0m\u001b[0mindex_array\u001b[0m\u001b[1;33m)\u001b[0m\u001b[1;33m\u001b[0m\u001b[1;33m\u001b[0m\u001b[0m\n\u001b[0m\u001b[0;32m     66\u001b[0m \u001b[1;33m\u001b[0m\u001b[0m\n\u001b[0;32m     67\u001b[0m     \u001b[1;32mdef\u001b[0m \u001b[0m__len__\u001b[0m\u001b[1;33m(\u001b[0m\u001b[0mself\u001b[0m\u001b[1;33m)\u001b[0m\u001b[1;33m:\u001b[0m\u001b[1;33m\u001b[0m\u001b[1;33m\u001b[0m\u001b[0m\n",
      "\u001b[1;32m~\\AppData\\Roaming\\Python\\Python38\\site-packages\\keras_preprocessing\\image\\iterator.py\u001b[0m in \u001b[0;36m_get_batches_of_transformed_samples\u001b[1;34m(self, index_array)\u001b[0m\n\u001b[0;32m    220\u001b[0m             \u001b[0mA\u001b[0m \u001b[0mbatch\u001b[0m \u001b[0mof\u001b[0m \u001b[0mtransformed\u001b[0m \u001b[0msamples\u001b[0m\u001b[1;33m.\u001b[0m\u001b[1;33m\u001b[0m\u001b[1;33m\u001b[0m\u001b[0m\n\u001b[0;32m    221\u001b[0m         \"\"\"\n\u001b[1;32m--> 222\u001b[1;33m         \u001b[0mbatch_x\u001b[0m \u001b[1;33m=\u001b[0m \u001b[0mnp\u001b[0m\u001b[1;33m.\u001b[0m\u001b[0mzeros\u001b[0m\u001b[1;33m(\u001b[0m\u001b[1;33m(\u001b[0m\u001b[0mlen\u001b[0m\u001b[1;33m(\u001b[0m\u001b[0mindex_array\u001b[0m\u001b[1;33m)\u001b[0m\u001b[1;33m,\u001b[0m\u001b[1;33m)\u001b[0m \u001b[1;33m+\u001b[0m \u001b[0mself\u001b[0m\u001b[1;33m.\u001b[0m\u001b[0mimage_shape\u001b[0m\u001b[1;33m,\u001b[0m \u001b[0mdtype\u001b[0m\u001b[1;33m=\u001b[0m\u001b[0mself\u001b[0m\u001b[1;33m.\u001b[0m\u001b[0mdtype\u001b[0m\u001b[1;33m)\u001b[0m\u001b[1;33m\u001b[0m\u001b[1;33m\u001b[0m\u001b[0m\n\u001b[0m\u001b[0;32m    223\u001b[0m         \u001b[1;31m# build batch of image data\u001b[0m\u001b[1;33m\u001b[0m\u001b[1;33m\u001b[0m\u001b[1;33m\u001b[0m\u001b[0m\n\u001b[0;32m    224\u001b[0m         \u001b[1;31m# self.filepaths is dynamic, is better to call it once outside the loop\u001b[0m\u001b[1;33m\u001b[0m\u001b[1;33m\u001b[0m\u001b[1;33m\u001b[0m\u001b[0m\n",
      "\u001b[1;31mMemoryError\u001b[0m: Unable to allocate 10.1 GiB for an array with shape (40000, 150, 150, 3) and data type float32"
     ]
    }
   ],
   "source": [
    "for n in range(0, 1):\n",
    "    X_list, y_list = list(), list()\n",
    "    images = train_generator[n][0]\n",
    "    labels = tnp.array(change_to_right(train_generator[n][1])) #tf.convert_to_tensor() va antes de todo\n",
    "    n_per_class = int(n_samples / n_classes)\n",
    "    for i in range(1, 15):\n",
    "    #filter images by their respective labels\n",
    "        X_with_class = images[labels == i]\n",
    "    # choose random instances\n",
    "        ix = randint(0, len(X_with_class), n_per_class)\n",
    "    # add each group of images to a list to train\n",
    "        [X_list.append(X_with_class[j]) for j in ix]\n",
    "        [y_list.append(i) for j in ix]\n",
    "    print(n)\n",
    "    filename1 = \"E:/UCF_Crimes/crimes_1/255{}.npz\".format(int(n))\n",
    "    savez_compressed(filename1, X_list, y_list)\n",
    "    print(\"Saved dataset: \", filename1)"
   ]
  },
  {
   "cell_type": "code",
   "execution_count": null,
   "id": "ce470e1c",
   "metadata": {},
   "outputs": [],
   "source": []
  },
  {
   "cell_type": "markdown",
   "id": "dbc8c0b8",
   "metadata": {},
   "source": [
    "## Light issue"
   ]
  },
  {
   "cell_type": "code",
   "execution_count": 14,
   "id": "1021482f",
   "metadata": {
    "ExecuteTime": {
     "end_time": "2021-07-27T14:59:05.666575Z",
     "start_time": "2021-07-27T14:59:05.653543Z"
    }
   },
   "outputs": [],
   "source": [
    "import cv2\n",
    "import matplotlib.pyplot as plt"
   ]
  },
  {
   "cell_type": "code",
   "execution_count": 3,
   "id": "7f775aef",
   "metadata": {
    "ExecuteTime": {
     "end_time": "2021-07-27T14:50:17.760312Z",
     "start_time": "2021-07-27T14:50:17.746314Z"
    }
   },
   "outputs": [],
   "source": [
    "def adjust_gamma(image, gamma=2.5):\n",
    "\t# build a lookup table mapping the pixel values [0, 255] to\n",
    "\t# their adjusted gamma values\n",
    "\tinvGamma = 1.0 / gamma\n",
    "\ttable = np.array([((i / 256.0) ** invGamma) * 255\n",
    "\t\tfor i in np.arange(0, 256)]).astype(\"uint32\")\n",
    "\t# apply gamma correction using the lookup table\n",
    "\treturn cv2.LUT(image, table)"
   ]
  },
  {
   "cell_type": "code",
   "execution_count": 30,
   "id": "96b2c3ce",
   "metadata": {
    "ExecuteTime": {
     "end_time": "2021-07-27T17:02:50.360820Z",
     "start_time": "2021-07-27T17:02:50.352828Z"
    }
   },
   "outputs": [],
   "source": [
    "x = '‪E:/Gan 1.jpg'  #location of the image\n",
    "original = cv2.imread(x)"
   ]
  },
  {
   "cell_type": "code",
   "execution_count": 4,
   "id": "ad04d436",
   "metadata": {
    "ExecuteTime": {
     "end_time": "2021-07-27T17:12:28.388905Z",
     "start_time": "2021-07-27T17:12:28.368872Z"
    }
   },
   "outputs": [],
   "source": [
    "import cv2\n",
    "img = cv2.imread(\"E:/UCF_Crimes/test_frames_label/Vandalism_4_2586.jpg\")"
   ]
  },
  {
   "cell_type": "code",
   "execution_count": 5,
   "id": "afe21585",
   "metadata": {
    "ExecuteTime": {
     "end_time": "2021-07-27T17:12:30.208730Z",
     "start_time": "2021-07-27T17:12:30.204729Z"
    }
   },
   "outputs": [],
   "source": [
    "def adjust_gamma2(img, brightness, minimum_brightness):\n",
    "    ratio = brightness / minimum_brightness\n",
    "    if ratio >= 1:\n",
    "        print(\"Image already bright enough\")\n",
    "        return img\n",
    "\n",
    "    # Otherwise, adjust brightness to get the target brightness\n",
    "    return cv2.convertScaleAbs(img, alpha = 1 / ratio, beta = 0)"
   ]
  },
  {
   "cell_type": "code",
   "execution_count": 31,
   "id": "0f42f26e",
   "metadata": {
    "ExecuteTime": {
     "end_time": "2021-07-27T17:31:46.730680Z",
     "start_time": "2021-07-27T17:31:46.714637Z"
    }
   },
   "outputs": [],
   "source": [
    "a = adjust_gamma2(img)"
   ]
  },
  {
   "cell_type": "code",
   "execution_count": 32,
   "id": "4fc85fdc",
   "metadata": {
    "ExecuteTime": {
     "end_time": "2021-07-27T17:31:50.893460Z",
     "start_time": "2021-07-27T17:31:49.127568Z"
    }
   },
   "outputs": [],
   "source": [
    "cv2.imshow('ImageWindow', a)\n",
    "cv2.waitKey()\n",
    "cv2.destroyAllWindows()"
   ]
  },
  {
   "cell_type": "code",
   "execution_count": 30,
   "id": "425cc07f",
   "metadata": {
    "ExecuteTime": {
     "end_time": "2021-07-27T17:31:45.189988Z",
     "start_time": "2021-07-27T17:31:45.173960Z"
    }
   },
   "outputs": [],
   "source": [
    "def adjust_gamma2(img):\n",
    "    ratio = 0.5 / 1\n",
    "    if ratio >= 1:\n",
    "        print(\"Image already bright enough\")\n",
    "        return img\n",
    "\n",
    "    # Otherwise, adjust brightness to get the target brightness\n",
    "    return cv2.convertScaleAbs(img, alpha = 1 / ratio, beta = 0)"
   ]
  },
  {
   "cell_type": "code",
   "execution_count": null,
   "id": "9d58e72e",
   "metadata": {},
   "outputs": [],
   "source": []
  }
 ],
 "metadata": {
  "kernelspec": {
   "display_name": "Python 3.7 (tf-latest)",
   "language": "python",
   "name": "tf-latest"
  },
  "language_info": {
   "codemirror_mode": {
    "name": "ipython",
    "version": 3
   },
   "file_extension": ".py",
   "mimetype": "text/x-python",
   "name": "python",
   "nbconvert_exporter": "python",
   "pygments_lexer": "ipython3",
   "version": "3.8.8"
  },
  "toc": {
   "base_numbering": 1,
   "nav_menu": {},
   "number_sections": true,
   "sideBar": true,
   "skip_h1_title": false,
   "title_cell": "Table of Contents",
   "title_sidebar": "Contents",
   "toc_cell": false,
   "toc_position": {},
   "toc_section_display": true,
   "toc_window_display": false
  },
  "varInspector": {
   "cols": {
    "lenName": 16,
    "lenType": 16,
    "lenVar": 40
   },
   "kernels_config": {
    "python": {
     "delete_cmd_postfix": "",
     "delete_cmd_prefix": "del ",
     "library": "var_list.py",
     "varRefreshCmd": "print(var_dic_list())"
    },
    "r": {
     "delete_cmd_postfix": ") ",
     "delete_cmd_prefix": "rm(",
     "library": "var_list.r",
     "varRefreshCmd": "cat(var_dic_list()) "
    }
   },
   "types_to_exclude": [
    "module",
    "function",
    "builtin_function_or_method",
    "instance",
    "_Feature"
   ],
   "window_display": false
  }
 },
 "nbformat": 4,
 "nbformat_minor": 5
}
